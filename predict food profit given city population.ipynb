{
 "cells": [
  {
   "cell_type": "code",
   "execution_count": 2,
   "metadata": {},
   "outputs": [],
   "source": [
    "# import important packages\n",
    "\n",
    "import pandas as pd\n",
    "import numpy as np\n",
    "import matplotlib.pyplot as plt\n",
    "\n",
    "%matplotlib inline"
   ]
  },
  {
   "cell_type": "code",
   "execution_count": 3,
   "metadata": {},
   "outputs": [],
   "source": [
    "# Read the comma separated data into X and Y\n",
    "\n",
    "data = pd.read_csv('ex1data1.txt').to_numpy()\n",
    "\n",
    "#x0 = np.ones((data.shape[0], 1))\n",
    "X = (data[:, 0]).reshape(data.shape[0], 1)\n",
    "#X = np.concatenate((x0, x1), axis=1)\n",
    "Y = data[:, 1].reshape(data.shape[0], 1)"
   ]
  },
  {
   "cell_type": "code",
   "execution_count": 4,
   "metadata": {},
   "outputs": [
    {
     "name": "stdout",
     "output_type": "stream",
     "text": [
      "The shape of X is: (96, 1)\n",
      "The shape of Y is: (96, 1)\n",
      "There are 96 training examples\n"
     ]
    }
   ],
   "source": [
    "# Summary of dataset\n",
    "\n",
    "shape_X = X.shape\n",
    "shape_Y = Y.shape\n",
    "m = Y.shape[0]\n",
    "\n",
    "print(\"The shape of X is: {}\".format(shape_X))\n",
    "print(\"The shape of Y is: {}\".format(shape_Y))\n",
    "print(\"There are {} training examples\".format(m))"
   ]
  },
  {
   "cell_type": "code",
   "execution_count": 5,
   "metadata": {},
   "outputs": [
    {
     "data": {
      "image/png": "[encoded data removed]",
      "text/plain": [
       "<Figure size 432x288 with 1 Axes>"
      ]
     },
     "metadata": {
      "needs_background": "light"
     },
     "output_type": "display_data"
    }
   ],
   "source": [
    "# Visualize data\n",
    "\n",
    "plt.scatter(X, Y)\n",
    "plt.ylabel('Profit in $10,000 s')\n",
    "plt.xlabel('Population of City in 10,000 s')\n",
    "plt.title(\"Food Profit vs Population data\")\n",
    "plt.show()"
   ]
  },
  {
   "cell_type": "code",
   "execution_count": 6,
   "metadata": {},
   "outputs": [],
   "source": [
    "# function to initialize weights\n",
    "\n",
    "def initialize_with_zeros(dim):\n",
    "    w = np.zeros((dim, 1))\n",
    "    b = 0\n",
    "    \n",
    "    assert(w.shape == (dim, 1))\n",
    "    \n",
    "    return w, b"
   ]
  },
  {
   "cell_type": "code",
   "execution_count": 7,
   "metadata": {},
   "outputs": [],
   "source": [
    "# Function to compute the squred error\n",
    "\n",
    "def compute_cost(w, b, X, Y):\n",
    "    \n",
    "    m = X.shape[0]\n",
    "    \n",
    "    assert(X.shape[1] == w.shape[0])\n",
    "    \n",
    "    h = np.dot(X, w) + b\n",
    "    \n",
    "    cost = 1/(2*m) * np.sum(np.power((h - Y), 2))\n",
    "    \n",
    "    dw = 1/m * np.sum(np.multiply((h - Y), X))\n",
    "    db = 1/m * np.sum(np.multiply((h - Y), 1))\n",
    "    \n",
    "    grads = {\"dw\": dw,\n",
    "             \"db\": db}\n",
    "    \n",
    "    return cost, grads"
   ]
  },
  {
   "cell_type": "code",
   "execution_count": 8,
   "metadata": {},
   "outputs": [],
   "source": [
    "def gradient_descent(w, b, X, Y, learning_rate=0.01, num_iteration=1500, print_cost=True):\n",
    "    m = X.shape[0]\n",
    "    \n",
    "    costs = []\n",
    "    \n",
    "    for i in range(num_iteration):\n",
    "        \n",
    "        cost, grads = compute_cost(w, b, X, Y)\n",
    "        \n",
    "        # Retrieve derivatives from grads\n",
    "        dw = grads[\"dw\"]\n",
    "        db = grads[\"db\"]\n",
    "        \n",
    "        # Gradient Descent\n",
    "        w = w - np.dot(learning_rate, dw)\n",
    "        b = b - np.dot(learning_rate, db)\n",
    "        \n",
    "        if i % 100 == 0:\n",
    "            costs.append(cost)\n",
    "            \n",
    "        if print_cost and i % 100 == 0:\n",
    "            print(\"Cost after iteration {} is {}\".format(i, cost))\n",
    "            \n",
    "    params = {\n",
    "        \"w\" : w,\n",
    "        \"b\" : b\n",
    "    }\n",
    "    \n",
    "    return params, costs"
   ]
  },
  {
   "cell_type": "code",
   "execution_count": 9,
   "metadata": {},
   "outputs": [],
   "source": [
    "def LR_model(X_train, Y_train, num_iteration=2000, learning_rate=0.01, print_cost=True):\n",
    "    \n",
    "    # initialize parameters with zero\n",
    "    w, b = initialize_with_zeros(X_train.shape[1])\n",
    "    \n",
    "    # Optimize parametes with gradient descent\n",
    "    params, costs = gradient_descent(w, b, X_train, Y_train, learning_rate, num_iteration, print_cost)\n",
    "    \n",
    "    # Retrieve parametes w and b\n",
    "    w = params[\"w\"]\n",
    "    b = params[\"b\"]\n",
    "    \n",
    "    return w, b, costs\n",
    "    "
   ]
  },
  {
   "cell_type": "code",
   "execution_count": 18,
   "metadata": {},
   "outputs": [
    {
     "name": "stdout",
     "output_type": "stream",
     "text": [
      "Cost after iteration 0 is 30.79495785534583\n",
      "Cost after iteration 100 is 4.62886302304601\n",
      "Cost after iteration 200 is 4.2741304129104565\n",
      "Cost after iteration 300 is 4.0270154000774525\n",
      "Cost after iteration 400 is 3.854869316456553\n",
      "Cost after iteration 500 is 3.7349483380980235\n",
      "Cost after iteration 600 is 3.6514085865801413\n",
      "Cost after iteration 700 is 3.5932128465253474\n",
      "Cost after iteration 800 is 3.552672336181594\n",
      "Cost after iteration 900 is 3.5244308707859417\n",
      "Cost after iteration 1000 is 3.504757207062151\n",
      "Cost after iteration 1100 is 3.491052073886718\n",
      "Cost after iteration 1200 is 3.481504758348879\n",
      "Cost after iteration 1300 is 3.4748538755874883\n",
      "Cost after iteration 1400 is 3.47022071547767\n"
     ]
    }
   ],
   "source": [
    "w, b, costs = LR_model(X, Y, 1500)"
   ]
  },
  {
   "cell_type": "code",
   "execution_count": 19,
   "metadata": {},
   "outputs": [
    {
     "data": {
      "text/plain": [
       "[<matplotlib.lines.Line2D at 0x197f83e38c8>]"
      ]
     },
     "execution_count": 19,
     "metadata": {},
     "output_type": "execute_result"
    },
    {
     "data": {
      "image/png": "[encoded data removed]",
      "text/plain": [
       "<Figure size 432x288 with 1 Axes>"
      ]
     },
     "metadata": {
      "needs_background": "light"
     },
     "output_type": "display_data"
    }
   ],
   "source": [
    "plt.plot(costs)"
   ]
  },
  {
   "cell_type": "code",
   "execution_count": 20,
   "metadata": {},
   "outputs": [],
   "source": [
    "# Line of best fit\n",
    "\n",
    "line = np.dot(X, w) + b"
   ]
  },
  {
   "cell_type": "code",
   "execution_count": 21,
   "metadata": {},
   "outputs": [
    {
     "data": {
      "text/plain": [
       "[<matplotlib.lines.Line2D at 0x197f843bf48>]"
      ]
     },
     "execution_count": 21,
     "metadata": {},
     "output_type": "execute_result"
    },
    {
     "data": {
      "image/png": "[encoded data removed]",
      "text/plain": [
       "<Figure size 432x288 with 1 Axes>"
      ]
     },
     "metadata": {
      "needs_background": "light"
     },
     "output_type": "display_data"
    }
   ],
   "source": [
    "plt.scatter(X, Y)\n",
    "plt.plot(X[:, 0], line, 'r')"
   ]
  }
 ],
 "metadata": {
  "kernelspec": {
   "display_name": "Python 3",
   "language": "python",
   "name": "python3"
  },
  "language_info": {
   "codemirror_mode": {
    "name": "ipython",
    "version": 3
   },
   "file_extension": ".py",
   "mimetype": "text/x-python",
   "name": "python",
   "nbconvert_exporter": "python",
   "pygments_lexer": "ipython3",
   "version": "3.7.4"
  }
 },
 "nbformat": 4,
 "nbformat_minor": 2
}
